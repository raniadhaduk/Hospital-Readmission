{
 "cells": [
  {
   "cell_type": "code",
   "execution_count": null,
   "metadata": {},
   "outputs": [],
   "source": [
    "import numpy as np\n",
    "import pandas as pd\n",
    "from sklearn.linear_model import LogisticRegression\n",
    "from sklearn.model_selection import train_test_split\n",
    "from sklearn.metrics import accuracy_score, confusion_matrix, recall_score,precision_score\n",
    "from imblearn.over_sampling import SMOTE\n",
    "from imblearn.under_sampling import NearMiss\n",
    "from imblearn.combine import SMOTEENN\n",
    "from sklearn.model_selection import cross_val_score\n",
    "from statistics import mean\n",
    "from sklearn.neighbors import KNeighborsClassifier\n",
    "from sklearn.dummy import DummyClassifier\n",
    "from sklearn import tree\n",
    "from sklearn.naive_bayes import GaussianNB\n",
    "from scipy.stats import friedmanchisquare\n",
    "from sklearn.decomposition import PCA\n",
    "from sklearn.ensemble import RandomForestClassifier"
   ]
  },
  {
   "cell_type": "code",
   "execution_count": null,
   "metadata": {},
   "outputs": [],
   "source": [
    "def decision_tree(X_train, X_test, y_train, y_test):\n",
    "    dt=tree.DecisionTreeClassifier()\n",
    "    score=cross_val_score(dt,X_train,y_train,cv=10)\n",
    "    dt=dt.fit(X_train,y_train)\n",
    "    y_pred=dt.predict(X_test)\n",
    "    results(y_pred,y_test)"
   ]
  },
  {
   "cell_type": "code",
   "execution_count": null,
   "metadata": {},
   "outputs": [],
   "source": [
    "def random_forest(X_train, X_test, y_train, y_test):\n",
    "    RC=RandomForestClassifier(n_estimators=10)\n",
    "    score=cross_val_score(RC,X_train,y_train,cv=10)\n",
    "    RC=RC.fit(X_train,y_train)\n",
    "    y_pred=RC.predict(X_test)\n",
    "    results(y_pred,y_test)"
   ]
  },
  {
   "cell_type": "code",
   "execution_count": null,
   "metadata": {},
   "outputs": [],
   "source": [
    "def Gaussian_NB(X_train, X_test, y_train, y_test):\n",
    "    GNB=GaussianNB()\n",
    "    score=cross_val_score(GNB,X_train,y_train,cv=10)\n",
    "    GNB=GNB.fit(X_train,y_train)\n",
    "    y_pred=GNB.predict(X_test)\n",
    "    results(y_pred,y_test)"
   ]
  },
  {
   "cell_type": "code",
   "execution_count": null,
   "metadata": {},
   "outputs": [],
   "source": [
    "def Dummy_Classifier(X_train, X_test, y_train, y_test):\n",
    "    DC=DummyClassifier()\n",
    "    score=cross_val_score(DC,X_train,y_train,cv=10)\n",
    "    DC=DC.fit(X_train,y_train)\n",
    "    y_pred=DC.predict(X_test)\n",
    "    results(y_pred,y_test)"
   ]
  },
  {
   "cell_type": "code",
   "execution_count": null,
   "metadata": {},
   "outputs": [],
   "source": [
    "def KNeighbors_Classifier(X_train, X_test, y_train, y_test):\n",
    "    KN=KNeighborsClassifier()\n",
    "    score=cross_val_score(KN,X_train,y_train,cv=10)\n",
    "    KN=KN.fit(X_train,y_train)\n",
    "    y_pred=KN.predict(X_test)\n",
    "    results(y_pred,y_test)"
   ]
  },
  {
   "cell_type": "code",
   "execution_count": null,
   "metadata": {},
   "outputs": [],
   "source": [
    "def results(y_pred,y_test):\n",
    "    q=confusion_matrix(y_test, y_pred)\n",
    "    s=accuracy_score(y_test, y_pred)\n",
    "    r=recall_score(y_test, y_pred)\n",
    "    t=precision_score(y_test, y_pred)\n",
    "    print(\"accu:\",s)\n",
    "    print(\"recall:\",r)\n",
    "    print(\"matrix:\",q)\n",
    "    print(\"precision:\",t)"
   ]
  },
  {
   "cell_type": "code",
   "execution_count": null,
   "metadata": {},
   "outputs": [],
   "source": [
    "def sampling_over(o_X,o_y):\n",
    "    smt = SMOTE()\n",
    "    o_X, o_y = smt.fit_sample(o_X, o_y)\n",
    "    print(\"oversample\",np.bincount(o_y))\n",
    "    return o_X,o_y\n",
    "    "
   ]
  },
  {
   "cell_type": "code",
   "execution_count": null,
   "metadata": {},
   "outputs": [],
   "source": [
    "def sampling_under(u_X,u_y):\n",
    "    nr = NearMiss()\n",
    "    u_X, u_y = nr.fit_sample(u_X,u_y)\n",
    "    print(\"undersample\",np.bincount(u_y))\n",
    "    return u_X,u_y"
   ]
  },
  {
   "cell_type": "code",
   "execution_count": null,
   "metadata": {},
   "outputs": [],
   "source": [
    "def sampling_balan(b_X,b_y):\n",
    "    sme = SMOTEENN(random_state=42)\n",
    "    b_X, b_y = sme.fit_resample(b_X, b_y)\n",
    "    print(\"balanced_sampling\",np.bincount(b_y))\n",
    "    return b_X,b_y"
   ]
  },
  {
   "cell_type": "code",
   "execution_count": null,
   "metadata": {},
   "outputs": [],
   "source": [
    "def run():\n",
    "    data = pd.read_csv('\\\\Users\\\\DELL\\\\Desktop\\\\dataset_diabetes\\\\diabetic_data8_yes.csv')\n",
    "    y=data[\"readmitted\"]\n",
    "    X=data.drop([\"readmitted\",\"Unnamed: 0\",\"Unnamed: 0.1\",\"encounter_id\",\"patient_nbr\"],axis=1)\n",
    "    print(X)\n",
    "    print(\"original\",np.bincount(y))\n",
    "    #X,y=sampling_over(X,y)\n",
    "    #X,y=sampling_under(X,y)\n",
    "    X,y=sampling_balan(X,y)\n",
    "    #X=PCA_A(X)\n",
    "    o_X_train, o_X_test, o_y_train, o_y_test = train_test_split(X, y, random_state = 1, stratify=y,test_size=0.3)\n",
    "    print(\"test_size\",o_X_test.shape)\n",
    "    print(\"train_size\",o_X_train.shape)\n",
    "    print(\"Decision tree\")\n",
    "    decision_tree(o_X_train, o_X_test, o_y_train, o_y_test)\n",
    "    print(\"Gaussian\")\n",
    "    Gaussian_NB(o_X_train, o_X_test, o_y_train, o_y_test)\n",
    "    print(\"Dummy_Classifier\")\n",
    "    Dummy_Classifier(o_X_train, o_X_test, o_y_train, o_y_test)\n",
    "    print(\"K-Nearest Neighbor\")\n",
    "    KNeighbors_Classifier(o_X_train, o_X_test, o_y_train, o_y_test)\n",
    "    print(\"random_forest\")\n",
    "    random_forest(o_X_train, o_X_test, o_y_train, o_y_test)\n",
    "    \n",
    "    "
   ]
  },
  {
   "cell_type": "code",
   "execution_count": null,
   "metadata": {},
   "outputs": [],
   "source": [
    "def PCA_A(X):\n",
    "    pca = PCA(n_components=30).fit_transform(X)\n",
    "    X = pd.DataFrame(data = pca, columns = ['p1','p2','p3','p4','p5','p6','p7','p8','p9','p10','p11','p1','p2','p3','p4','p5','p6','p7','p8','p9','p10','p11','p1','p2','p3','p1','p2','p3','p4','p5'])\n",
    "    #print(X)\n",
    "    return X"
   ]
  },
  {
   "cell_type": "code",
   "execution_count": null,
   "metadata": {
    "scrolled": true
   },
   "outputs": [],
   "source": [
    "run()"
   ]
  },
  {
   "cell_type": "code",
   "execution_count": null,
   "metadata": {},
   "outputs": [],
   "source": [
    "import Orange as orn\n",
    "import matplotlib.pyplot as plt\n",
    "names = [\"Decision_Tree\",\"Gaussian_Naive_Bayes\",\"Dummy_Classifier\",\"K-Nearest_Neighbor\",\"Random_Forest\" ]\n",
    "avranks =  [3,4,5,1,2]\n",
    "cd = orn.evaluation.compute_CD(avranks, 10) #tested on 30 datasets\n",
    "print(cd)\n",
    "orn.evaluation.graph_ranks(avranks, names, cd=cd, width=10, textspace=1.2)\n",
    "plt.show()"
   ]
  },
  {
   "cell_type": "code",
   "execution_count": null,
   "metadata": {},
   "outputs": [],
   "source": [
    "from scipy import stats\n",
    "KNN=[0.90,0.90,0.90,0.90,.90,0.88,0.86,0.87,0.86,0.87]\n",
    "DT=[0.80,0.79,0.799,0.7,0.79,0.78,0.77,0.78,0.77,0.76]\n",
    "NB=[0.655,0.655,0.655,0.655,0.65,0.64,0.65,0.64,0.65,0.64]\n",
    "DC=[.54,0.55,0.55,0.54,0.53,0.52,0.51,0.50,0.54,0.55]\n",
    "RF=[0.82,0.828,0.83,0.83,0.82,0.82,0.83,0.82,0.83,0.82]"
   ]
  },
  {
   "cell_type": "code",
   "execution_count": null,
   "metadata": {},
   "outputs": [],
   "source": [
    "DT_NB=stats.ttest_rel(DT,NB)\n",
    "DT_NB"
   ]
  },
  {
   "cell_type": "code",
   "execution_count": null,
   "metadata": {},
   "outputs": [],
   "source": [
    "DT_DC=stats.ttest_rel(DT,DC)\n",
    "DT_DC"
   ]
  },
  {
   "cell_type": "code",
   "execution_count": null,
   "metadata": {},
   "outputs": [],
   "source": [
    "DT_KNN=stats.ttest_rel(KNN,DT)\n",
    "DT_KNN"
   ]
  },
  {
   "cell_type": "code",
   "execution_count": null,
   "metadata": {},
   "outputs": [],
   "source": [
    "DT_RF=stats.ttest_rel(DT,RF)\n",
    "DT_RF\n"
   ]
  },
  {
   "cell_type": "code",
   "execution_count": null,
   "metadata": {},
   "outputs": [],
   "source": [
    "NB_DC=stats.ttest_rel(NB,DC)\n",
    "NB_DC"
   ]
  },
  {
   "cell_type": "code",
   "execution_count": null,
   "metadata": {},
   "outputs": [],
   "source": [
    "NB_KNN=stats.ttest_rel(NB,KNN)\n",
    "NB_KNN"
   ]
  },
  {
   "cell_type": "code",
   "execution_count": null,
   "metadata": {},
   "outputs": [],
   "source": [
    "NB_RF=stats.ttest_rel(NB,RF)\n",
    "NB_RF"
   ]
  },
  {
   "cell_type": "code",
   "execution_count": null,
   "metadata": {},
   "outputs": [],
   "source": [
    "DC_KNN=stats.ttest_rel(DC,KNN)\n",
    "DC_KNN"
   ]
  },
  {
   "cell_type": "code",
   "execution_count": null,
   "metadata": {},
   "outputs": [],
   "source": [
    "DC_RF=stats.ttest_rel(DC,RF)\n",
    "DC_RF"
   ]
  },
  {
   "cell_type": "code",
   "execution_count": null,
   "metadata": {},
   "outputs": [],
   "source": [
    "KNN_RF=stats.ttest_rel(KNN,RF)\n",
    "KNN_RF"
   ]
  }
 ],
 "metadata": {
  "kernelspec": {
   "display_name": "Python 3",
   "language": "python",
   "name": "python3"
  },
  "language_info": {
   "codemirror_mode": {
    "name": "ipython",
    "version": 3
   },
   "file_extension": ".py",
   "mimetype": "text/x-python",
   "name": "python",
   "nbconvert_exporter": "python",
   "pygments_lexer": "ipython3",
   "version": "3.7.3"
  }
 },
 "nbformat": 4,
 "nbformat_minor": 2
}
